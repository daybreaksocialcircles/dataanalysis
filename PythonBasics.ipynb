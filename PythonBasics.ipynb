{
  "nbformat": 4,
  "nbformat_minor": 0,
  "metadata": {
    "colab": {
      "name": "Untitled1.ipynb",
      "version": "0.3.2",
      "provenance": [],
      "include_colab_link": true
    },
    "kernelspec": {
      "name": "python3",
      "display_name": "Python 3"
    }
  },
  "cells": [
    {
      "cell_type": "markdown",
      "metadata": {
        "id": "view-in-github",
        "colab_type": "text"
      },
      "source": [
        "<a href=\"https://colab.research.google.com/github/daybreaksocialcircles/dataanalysis/blob/master/PythonBasics.ipynb\" target=\"_parent\"><img src=\"https://colab.research.google.com/assets/colab-badge.svg\" alt=\"Open In Colab\"/></a>"
      ]
    },
    {
      "cell_type": "code",
      "metadata": {
        "id": "Y5-GRBgAFAR9",
        "colab_type": "code",
        "colab": {
          "base_uri": "https://localhost:8080/",
          "height": 85
        },
        "outputId": "58e4a01c-0cd1-4653-ed6c-9b4f4b7a76e1"
      },
      "source": [
        "print(\"Kyle is awesome\")\n",
        "print(\"Jim is fantastic\")\n",
        "print(\"Chris is the best\")\n",
        "print(\"Mark is even better\")"
      ],
      "execution_count": 3,
      "outputs": [
        {
          "output_type": "stream",
          "text": [
            "Kyle is awesome\n",
            "Jim is fantastic\n",
            "Chris is the best\n",
            "Mark is even better\n"
          ],
          "name": "stdout"
        }
      ]
    },
    {
      "cell_type": "code",
      "metadata": {
        "id": "W2GekY5pFl4C",
        "colab_type": "code",
        "colab": {
          "base_uri": "https://localhost:8080/",
          "height": 68
        },
        "outputId": "928b4cf6-94d9-4171-fb80-024ba12b3ed0"
      },
      "source": [
        "import re \n",
        "for test_string in ['555-1212', '777-ISBAD', 'john.smith@gmail.com']:\n",
        "  if re.match(r'^\\d{3}-\\d{4}$', test_string):\n",
        "    print(test_string, ' is a valid US local phone number')\n",
        "  else:\n",
        "    print('Rejected: ', test_string)\n"
      ],
      "execution_count": 2,
      "outputs": [
        {
          "output_type": "stream",
          "text": [
            "555-1212  is a valid US local phone number\n",
            "Rejected:  777-ISBAD\n",
            "Rejected:  john.weeks@gmail.com\n"
          ],
          "name": "stdout"
        }
      ]
    }
  ]
}